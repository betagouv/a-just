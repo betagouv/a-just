{
 "cells": [
  {
   "cell_type": "markdown",
   "id": "bbfd905d",
   "metadata": {},
   "source": [
    "# A-JUST Data Model - Demo"
   ]
  },
  {
   "cell_type": "code",
   "execution_count": 1,
   "id": "e819b86a",
   "metadata": {},
   "outputs": [],
   "source": [
    "import sys\n",
    "sys.path.append(\"../\")"
   ]
  },
  {
   "cell_type": "code",
   "execution_count": 2,
   "id": "fd992654",
   "metadata": {},
   "outputs": [],
   "source": [
    "from ajust.juridictions import Stock, Contentieux"
   ]
  },
  {
   "cell_type": "markdown",
   "id": "68dcebee",
   "metadata": {},
   "source": [
    "On crée un type de contentieux \"JAF\" (juge aux affaires familiales). Une affaire \"JAF\" est traitée en 0,1 jours de travail par un ETP en moyenne."
   ]
  },
  {
   "cell_type": "code",
   "execution_count": 3,
   "id": "60da8f13",
   "metadata": {},
   "outputs": [],
   "source": [
    "jaf = Contentieux(nom=\"JAF\", temps_traitement_moyen=.1)"
   ]
  },
  {
   "cell_type": "markdown",
   "id": "993e43c8",
   "metadata": {},
   "source": [
    "On crée maintenant le stock d'affaires en cours dans la juridiction pour le type de contentieux JAF. 3 ETP sont affectés à ce stock d'affaires. Le stock est initiallement constitué de 100 affaires en cours."
   ]
  },
  {
   "cell_type": "code",
   "execution_count": 4,
   "id": "8adeb998",
   "metadata": {},
   "outputs": [
    {
     "data": {
      "text/plain": [
       "Stock JAF (t = 0) : 100 affaires en cours, 2 ETP affectés, délai d'attente : 5.0"
      ]
     },
     "execution_count": 4,
     "metadata": {},
     "output_type": "execute_result"
    }
   ],
   "source": [
    "stock_jaf = Stock(contentieux=jaf, num_etp=2, num_affaires_en_cours=100, periode=0)\n",
    "stock_jaf"
   ]
  },
  {
   "cell_type": "markdown",
   "id": "1d292cdf",
   "metadata": {},
   "source": [
    "La capacité de traitement du stock pour la juridiction est donc de 4 affaires par jour ( $\\frac{\\text{num_etp}}{\\text{temps_traitement_moyen}} = \\frac{2}{.5} = 4$)"
   ]
  },
  {
   "cell_type": "code",
   "execution_count": 5,
   "id": "7caf7564",
   "metadata": {},
   "outputs": [
    {
     "data": {
      "text/plain": [
       "20.0"
      ]
     },
     "execution_count": 5,
     "metadata": {},
     "output_type": "execute_result"
    }
   ],
   "source": [
    "stock_jaf.capacite_de_traitement"
   ]
  },
  {
   "cell_type": "markdown",
   "id": "5357731a",
   "metadata": {},
   "source": [
    "Le délai d'attente pour une nouvelle affaire intégrant le stock à t=0 est donc de 25 jours ouvrés ($\\frac{\\text{stock}}{\\text{capacite_de_traitement}} = \\frac{100}{4} = 25$)"
   ]
  },
  {
   "cell_type": "code",
   "execution_count": 6,
   "id": "482a72d1",
   "metadata": {},
   "outputs": [
    {
     "data": {
      "text/plain": [
       "5.0"
      ]
     },
     "execution_count": 6,
     "metadata": {},
     "output_type": "execute_result"
    }
   ],
   "source": [
    "stock_jaf.delai_attente"
   ]
  },
  {
   "cell_type": "markdown",
   "id": "10249634",
   "metadata": {},
   "source": [
    "L'un des leviers pour faire varier le délai d'attente (via la capacité de traitement) est d'affecter plus d'ETP au stock des affaires familiales."
   ]
  },
  {
   "cell_type": "code",
   "execution_count": 7,
   "id": "665ae979",
   "metadata": {},
   "outputs": [],
   "source": [
    "stock_jaf.num_etp = 10"
   ]
  },
  {
   "cell_type": "code",
   "execution_count": 8,
   "id": "2d051149",
   "metadata": {},
   "outputs": [
    {
     "data": {
      "text/plain": [
       "100.0"
      ]
     },
     "execution_count": 8,
     "metadata": {},
     "output_type": "execute_result"
    }
   ],
   "source": [
    "stock_jaf.capacite_de_traitement"
   ]
  },
  {
   "cell_type": "code",
   "execution_count": 9,
   "id": "8d2eed4d",
   "metadata": {},
   "outputs": [
    {
     "data": {
      "text/plain": [
       "1.0"
      ]
     },
     "execution_count": 9,
     "metadata": {},
     "output_type": "execute_result"
    }
   ],
   "source": [
    "stock_jaf.delai_attente"
   ]
  },
  {
   "cell_type": "markdown",
   "id": "5c5f8d84",
   "metadata": {},
   "source": [
    "## Simulation"
   ]
  },
  {
   "cell_type": "code",
   "execution_count": 10,
   "id": "19677c97",
   "metadata": {},
   "outputs": [
    {
     "name": "stdout",
     "output_type": "stream",
     "text": [
      "Stock JAF (t = 0) : 100 affaires en cours, 2 ETP affectés, délai d'attente : 5.0\n",
      "Stock JAF (t = 1) : 90.0 affaires en cours, 2 ETP affectés, délai d'attente : 4.5\n",
      "Stock JAF (t = 2) : 90.0 affaires en cours, 3 ETP affectés, délai d'attente : 3.0\n",
      "Stock JAF (t = 3) : 70.0 affaires en cours, 2 ETP affectés, délai d'attente : 3.5\n"
     ]
    }
   ],
   "source": [
    "ENTREES = [10, 20, 10, 10]\n",
    "ETPS = [2, 2, 3, 2]\n",
    "\n",
    "for entree, etp in zip(ENTREES, ETPS):\n",
    "    # on affecte un nombre d'ETP pour la periode en cours\n",
    "    stock_jaf.num_etp = etp\n",
    "    print(stock_jaf)\n",
    "    # on retire les affaires traitées sur la periode en cours\n",
    "    stock_jaf.sorties(num_sorties = stock_jaf.capacite_de_traitement)\n",
    "    # on ajoute les affaires traitées sur la periode en cours\n",
    "    stock_jaf.entrees(num_entrees = entree)\n",
    "    # fin de la periode en cours\n",
    "    stock_jaf.periode_suivante()"
   ]
  },
  {
   "cell_type": "code",
   "execution_count": null,
   "id": "0ba3d67d",
   "metadata": {},
   "outputs": [],
   "source": []
  }
 ],
 "metadata": {
  "kernelspec": {
   "display_name": "ajust",
   "language": "python",
   "name": "ajust"
  },
  "language_info": {
   "codemirror_mode": {
    "name": "ipython",
    "version": 3
   },
   "file_extension": ".py",
   "mimetype": "text/x-python",
   "name": "python",
   "nbconvert_exporter": "python",
   "pygments_lexer": "ipython3",
   "version": "3.9.0"
  }
 },
 "nbformat": 4,
 "nbformat_minor": 5
}
